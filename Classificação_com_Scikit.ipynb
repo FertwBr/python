{
  "nbformat": 4,
  "nbformat_minor": 0,
  "metadata": {
    "colab": {
      "provenance": [],
      "authorship_tag": "ABX9TyMwZ/5aumlyKXNPSyopBBD5",
      "include_colab_link": true
    },
    "kernelspec": {
      "name": "python3",
      "display_name": "Python 3"
    },
    "language_info": {
      "name": "python"
    }
  },
  "cells": [
    {
      "cell_type": "markdown",
      "metadata": {
        "id": "view-in-github",
        "colab_type": "text"
      },
      "source": [
        "<a href=\"https://colab.research.google.com/github/FertwBr/python/blob/pre-processing-python/Classifica%C3%A7%C3%A3o_com_Scikit.ipynb\" target=\"_parent\"><img src=\"https://colab.research.google.com/assets/colab-badge.svg\" alt=\"Open In Colab\"/></a>"
      ]
    },
    {
      "cell_type": "code",
      "execution_count": 6,
      "metadata": {
        "id": "7ivZE-PsvFxp"
      },
      "outputs": [],
      "source": [
        "import numpy as np\n",
        "from sklearn.model_selection import train_test_split\n",
        "from sklearn.datasets import make_classification\n",
        "from sklearn.ensemble import RandomForestClassifier\n",
        "from sklearn.model_selection import cross_val_predict\n",
        "from sklearn.metrics import classification_report"
      ]
    },
    {
      "cell_type": "markdown",
      "source": [
        "#1) Conjunto de dados com 100 amostras e 5 características\n",
        "a)Cria um conjunto de dados"
      ],
      "metadata": {
        "id": "q95OQ0G-vR8j"
      }
    },
    {
      "cell_type": "code",
      "source": [
        "X = np.random.rand(100, 5)\n",
        "y = np.random.randint(2, size=100)"
      ],
      "metadata": {
        "id": "NOwMa-F8vSti"
      },
      "execution_count": 2,
      "outputs": []
    },
    {
      "cell_type": "markdown",
      "source": [
        " b) Divisão em treinamento e teste"
      ],
      "metadata": {
        "id": "5spIn8Xlvpbg"
      }
    },
    {
      "cell_type": "code",
      "source": [
        "test_sizes = [0.33, 0.2, 0.1]  # Lista com os tamanhos de teste\n",
        "for test_size in test_sizes:\n",
        "    X_train, X_test, y_train, y_test = train_test_split(X, y, test_size=test_size, random_state=42) # random_state garante reproudicidade\n",
        "    print(f\"\\nDivisão com {test_size*100:.0f}% de dados de teste:\")\n",
        "    print(f\"Tamanho do conjunto de treinamento: {X_train.shape}\")\n",
        "    print(f\"Tamanho do conjunto de teste: {X_test.shape}\")"
      ],
      "metadata": {
        "colab": {
          "base_uri": "https://localhost:8080/"
        },
        "id": "Xh7hEp8cvp82",
        "outputId": "a3327d4b-8388-40e4-e615-0b0c1cf55edc"
      },
      "execution_count": 3,
      "outputs": [
        {
          "output_type": "stream",
          "name": "stdout",
          "text": [
            "\n",
            "Divisão com 33% de dados de teste:\n",
            "Tamanho do conjunto de treinamento: (67, 5)\n",
            "Tamanho do conjunto de teste: (33, 5)\n",
            "\n",
            "Divisão com 20% de dados de teste:\n",
            "Tamanho do conjunto de treinamento: (80, 5)\n",
            "Tamanho do conjunto de teste: (20, 5)\n",
            "\n",
            "Divisão com 10% de dados de teste:\n",
            "Tamanho do conjunto de treinamento: (90, 5)\n",
            "Tamanho do conjunto de teste: (10, 5)\n"
          ]
        }
      ]
    },
    {
      "cell_type": "markdown",
      "source": [
        "#2) Conjunto de dados com 1000 amostras e 3 características"
      ],
      "metadata": {
        "id": "bje1WYwNvsiZ"
      }
    },
    {
      "source": [
        "X, y = make_classification(n_samples=1000, n_features=3, n_informative=3, n_redundant=0, n_repeated=0, n_classes=4, random_state=42)"
      ],
      "cell_type": "code",
      "metadata": {
        "id": "iwZXCFYGxkNI"
      },
      "execution_count": 17,
      "outputs": []
    },
    {
      "cell_type": "markdown",
      "source": [
        "b) RandomForestClassifier e validação cruzada k-fold"
      ],
      "metadata": {
        "id": "KNpEJsWavwgb"
      }
    },
    {
      "cell_type": "code",
      "source": [
        "cv_values = [10, 3]\n",
        "for cv_value in cv_values:\n",
        "    clf = RandomForestClassifier(random_state=42)\n",
        "    y_pred = cross_val_predict(clf, X, y, cv=cv_value)"
      ],
      "metadata": {
        "id": "qZs1sc9RwCzP"
      },
      "execution_count": 18,
      "outputs": []
    },
    {
      "cell_type": "markdown",
      "source": [
        "c) Relatório de classificação\n"
      ],
      "metadata": {
        "id": "_BcpMEhowIiJ"
      }
    },
    {
      "cell_type": "code",
      "source": [
        "    print(f\"\\nRelatório de classificação com {cv_value} folds:\")\n",
        "    print(classification_report(y, y_pred))"
      ],
      "metadata": {
        "colab": {
          "base_uri": "https://localhost:8080/"
        },
        "id": "RqDRGy9KwK3s",
        "outputId": "623e4cc4-97a9-457e-c2df-ceb832f0c4db"
      },
      "execution_count": 19,
      "outputs": [
        {
          "output_type": "stream",
          "name": "stdout",
          "text": [
            "\n",
            "Relatório de classificação com 3 folds:\n",
            "              precision    recall  f1-score   support\n",
            "\n",
            "           0       0.88      0.84      0.86       249\n",
            "           1       0.84      0.86      0.85       250\n",
            "           2       0.83      0.81      0.82       249\n",
            "           3       0.81      0.85      0.83       252\n",
            "\n",
            "    accuracy                           0.84      1000\n",
            "   macro avg       0.84      0.84      0.84      1000\n",
            "weighted avg       0.84      0.84      0.84      1000\n",
            "\n"
          ]
        }
      ]
    }
  ]
}