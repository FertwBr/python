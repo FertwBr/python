{
  "nbformat": 4,
  "nbformat_minor": 0,
  "metadata": {
    "colab": {
      "provenance": [],
      "authorship_tag": "ABX9TyPHj6sVVjyyYBarAsDti+r1",
      "include_colab_link": true
    },
    "kernelspec": {
      "name": "python3",
      "display_name": "Python 3"
    },
    "language_info": {
      "name": "python"
    }
  },
  "cells": [
    {
      "cell_type": "markdown",
      "metadata": {
        "id": "view-in-github",
        "colab_type": "text"
      },
      "source": [
        "<a href=\"https://colab.research.google.com/github/FertwBr/python/blob/pre-processing-python/Pr%C3%A9_processamento.ipynb\" target=\"_parent\"><img src=\"https://colab.research.google.com/assets/colab-badge.svg\" alt=\"Open In Colab\"/></a>"
      ]
    },
    {
      "cell_type": "markdown",
      "source": [
        "# Questão 1: Transformação Binária do Atributo 'cargo'"
      ],
      "metadata": {
        "id": "P4bgID6_wDn5"
      }
    },
    {
      "cell_type": "code",
      "source": [
        "import pandas as pd"
      ],
      "metadata": {
        "id": "16KZBmiewL4J"
      },
      "execution_count": null,
      "outputs": []
    },
    {
      "cell_type": "code",
      "source": [
        "df = pd.read_csv('fake_data_2.csv')\n",
        "\n",
        "df = pd.get_dummies(df, columns=['cargo'])\n",
        "\n",
        "print(df)"
      ],
      "metadata": {
        "colab": {
          "base_uri": "https://localhost:8080/"
        },
        "id": "YDyn3J8-wEaP",
        "outputId": "329639f6-d78f-4780-d7fd-841261379733"
      },
      "execution_count": null,
      "outputs": [
        {
          "output_type": "stream",
          "name": "stdout",
          "text": [
            "    idade  salario    bonus sócio  cargo_Analista  cargo_Diretor  \\\n",
            "0      45  24000.0  10000.0   sim           False           True   \n",
            "1      22   8000.0   2000.0   não            True          False   \n",
            "2      30      NaN   1000.0   não           False          False   \n",
            "3      24  15100.0      NaN   não           False          False   \n",
            "4      30  35000.0   6000.0   sim           False          False   \n",
            "5      22   5300.0   2000.0   não           False          False   \n",
            "6      20      NaN   1200.0   não            True          False   \n",
            "7      50  18000.0   8000.0   sim           False           True   \n",
            "8      65  38000.0  28000.0   sim           False          False   \n",
            "9      32   7300.0   4000.0   não            True          False   \n",
            "10     35   2344.0      NaN   não           False          False   \n",
            "11     28   4500.0   2200.0   não           False          False   \n",
            "12     28  30000.0  12000.0   sim           False          False   \n",
            "13     30  14000.0  10000.0   sim           False          False   \n",
            "14     45  24000.0  10000.0   sim           False           True   \n",
            "15     30  35000.0   6000.0   sim           False          False   \n",
            "\n",
            "    cargo_Fundador  cargo_Gerente  cargo_Programador  \n",
            "0            False          False              False  \n",
            "1            False          False              False  \n",
            "2            False          False               True  \n",
            "3            False           True              False  \n",
            "4            False           True              False  \n",
            "5            False          False               True  \n",
            "6            False          False              False  \n",
            "7            False          False              False  \n",
            "8             True          False              False  \n",
            "9            False          False              False  \n",
            "10           False          False               True  \n",
            "11           False          False               True  \n",
            "12            True          False              False  \n",
            "13           False          False               True  \n",
            "14           False          False              False  \n",
            "15           False           True              False  \n"
          ]
        }
      ]
    },
    {
      "cell_type": "markdown",
      "source": [
        "# Questão 2: Conversão e Normalização de Dados"
      ],
      "metadata": {
        "id": "FaqxFCf9v-r8"
      }
    },
    {
      "cell_type": "code",
      "source": [
        "import pandas as pd"
      ],
      "metadata": {
        "id": "RGQVrPHhvkaV"
      },
      "execution_count": null,
      "outputs": []
    },
    {
      "cell_type": "markdown",
      "source": [
        "Dados da imagem"
      ],
      "metadata": {
        "id": "2IW81hOhvhs4"
      }
    },
    {
      "cell_type": "code",
      "source": [
        "dados = {\n",
        "    'Febre': ['baixa', 'média', 'alta', 'alta', 'baixa', 'média'],\n",
        "    'Enjoo': ['sim', 'não', 'sim', 'não', 'não', 'não'],\n",
        "    'Mancha': ['pequena', 'média', 'grande', 'pequena', 'grande', 'ausente'],\n",
        "    'Dor': ['A', 'C', 'B', 'A', 'D', 'C'],\n",
        "    'Diagnóstico': ['doente', 'saudável', 'saudável', 'doente', 'saudável', 'doente']\n",
        "}"
      ],
      "metadata": {
        "id": "prYmFCM1visE"
      },
      "execution_count": null,
      "outputs": []
    },
    {
      "cell_type": "markdown",
      "source": [
        "Criar DataFrame"
      ],
      "metadata": {
        "id": "zZ6dXdtivpPv"
      }
    },
    {
      "cell_type": "code",
      "source": [
        "df = pd.DataFrame(dados)\n",
        "\n",
        "def converter_e_normalizar(coluna):\n",
        "    valores_unicos = df[coluna].unique()\n",
        "    mapeamento = {valor: i for i, valor in enumerate(valores_unicos)}\n",
        "    df[coluna] = df[coluna].map(mapeamento)\n",
        "\n",
        "    maximo = df[coluna].max()\n",
        "    minimo = df[coluna].min()\n",
        "    df[coluna] = (df[coluna] - minimo) / (maximo - minimo)\n",
        "\n",
        "\n",
        "colunas_categoricas = ['Febre', 'Enjoo', 'Mancha', 'Dor', 'Diagnóstico']\n",
        "for coluna in colunas_categoricas:\n",
        "    converter_e_normalizar(coluna)\n",
        "\n",
        "\n",
        "print(df)"
      ],
      "metadata": {
        "colab": {
          "base_uri": "https://localhost:8080/"
        },
        "id": "U1YPfWKlvpWV",
        "outputId": "8f6a6c5e-c4f1-45cd-c468-1fa80ea1adb8"
      },
      "execution_count": null,
      "outputs": [
        {
          "output_type": "stream",
          "name": "stdout",
          "text": [
            "   Febre  Enjoo    Mancha       Dor  Diagnóstico\n",
            "0    0.0    0.0  0.000000  0.000000          0.0\n",
            "1    0.5    1.0  0.333333  0.333333          1.0\n",
            "2    1.0    0.0  0.666667  0.666667          1.0\n",
            "3    1.0    1.0  0.000000  0.000000          0.0\n",
            "4    0.0    1.0  0.666667  1.000000          1.0\n",
            "5    0.5    1.0  1.000000  0.333333          0.0\n"
          ]
        }
      ]
    },
    {
      "cell_type": "markdown",
      "source": [
        "# Questão 3: Tratamento de Dados Ausentes em 'iris_alterado.csv'"
      ],
      "metadata": {
        "id": "E9Od96EAv7uh"
      }
    },
    {
      "cell_type": "code",
      "source": [
        "import pandas as pd"
      ],
      "metadata": {
        "id": "lgG8SHqvxhMh"
      },
      "execution_count": null,
      "outputs": []
    },
    {
      "cell_type": "markdown",
      "source": [
        "Carregar a base de dados iris_alterado.csv"
      ],
      "metadata": {
        "id": "dSCLJX81xlPj"
      }
    },
    {
      "cell_type": "code",
      "source": [
        "df = pd.read_csv('iris_alterado.csv')"
      ],
      "metadata": {
        "id": "MH3YndTrxjio"
      },
      "execution_count": null,
      "outputs": []
    },
    {
      "cell_type": "markdown",
      "source": [
        "(a) Remover atributos com dados ausentes"
      ],
      "metadata": {
        "id": "NvZ5rZLuxjtP"
      }
    },
    {
      "cell_type": "code",
      "source": [
        "df_sem_atributos_ausentes = df.dropna(axis='columns')"
      ],
      "metadata": {
        "id": "K_ieDx6ZxjzW"
      },
      "execution_count": null,
      "outputs": []
    },
    {
      "cell_type": "markdown",
      "source": [
        "(b) Remover amostras com dados ausentes"
      ],
      "metadata": {
        "id": "CbjKbuhYxj5F"
      }
    },
    {
      "cell_type": "code",
      "source": [
        "df_sem_amostras_ausentes = df.dropna(axis='index')"
      ],
      "metadata": {
        "id": "KtqgLhnZxj-s"
      },
      "execution_count": 16,
      "outputs": []
    },
    {
      "cell_type": "markdown",
      "source": [
        "(c) Remover amostras duplicadas"
      ],
      "metadata": {
        "id": "AlZqfvVOxkJJ"
      }
    },
    {
      "cell_type": "code",
      "source": [
        "df_sem_duplicatas = df.drop_duplicates(subset=['sepal_length', 'sepal_width', 'petal_length', 'petal_width'])"
      ],
      "metadata": {
        "id": "KOBWYsCBxzoz"
      },
      "execution_count": null,
      "outputs": []
    },
    {
      "cell_type": "markdown",
      "source": [
        "(d) Mostrar os resultados"
      ],
      "metadata": {
        "id": "LUUVLPo3x1Xb"
      }
    },
    {
      "cell_type": "code",
      "source": [
        "print(\"(a) DataFrame sem atributos com dados ausentes:\")\n",
        "print(df_sem_atributos_ausentes)\n",
        "print(\"\\n(b) DataFrame sem amostras com dados ausentes:\")\n",
        "print(df_sem_amostras_ausentes)\n",
        "print(\"\\n(c) DataFrame sem amostras duplicadas:\")\n",
        "print(df_sem_duplicatas)"
      ],
      "metadata": {
        "colab": {
          "base_uri": "https://localhost:8080/"
        },
        "id": "798on6y4ySdS",
        "outputId": "19cd3060-74a1-4082-a174-af075429ca88"
      },
      "execution_count": null,
      "outputs": [
        {
          "output_type": "stream",
          "name": "stdout",
          "text": [
            "(a) DataFrame sem atributos com dados ausentes:\n",
            "    petal_length           class\n",
            "0            1.4     Iris-setosa\n",
            "1            1.4     Iris-setosa\n",
            "2            1.4     Iris-setosa\n",
            "3            1.3     Iris-setosa\n",
            "4            1.5     Iris-setosa\n",
            "..           ...             ...\n",
            "83           5.9  Iris-virginica\n",
            "84           5.6  Iris-virginica\n",
            "85           5.8  Iris-virginica\n",
            "86           6.6  Iris-virginica\n",
            "87           4.5  Iris-virginica\n",
            "\n",
            "[88 rows x 2 columns]\n",
            "\n",
            "(b) DataFrame sem amostras com dados ausentes:\n",
            "    sepal_length  sepal_width  petal_length  petal_width            class\n",
            "2            4.9          3.0           1.4          0.2      Iris-setosa\n",
            "4            4.6          3.1           1.5          0.2      Iris-setosa\n",
            "5            5.0          3.6           1.4          0.2      Iris-setosa\n",
            "7            4.6          3.4           1.4          0.3      Iris-setosa\n",
            "9            4.4          2.9           1.4          0.2      Iris-setosa\n",
            "..           ...          ...           ...          ...              ...\n",
            "82           5.9          3.0           4.2          1.5  Iris-versicolor\n",
            "83           7.1          3.0           5.9          2.1   Iris-virginica\n",
            "85           6.5          3.0           5.8          2.2   Iris-virginica\n",
            "86           7.6          3.0           6.6          2.1   Iris-virginica\n",
            "87           4.9          2.5           4.5          1.7   Iris-virginica\n",
            "\n",
            "[77 rows x 5 columns]\n",
            "\n",
            "(c) DataFrame sem amostras duplicadas:\n",
            "    sepal_length  sepal_width  petal_length  petal_width           class\n",
            "0            5.1          3.5           1.4          NaN     Iris-setosa\n",
            "1            4.9          NaN           1.4          0.2     Iris-setosa\n",
            "2            4.9          3.0           1.4          0.2     Iris-setosa\n",
            "3            4.7          NaN           1.3          0.2     Iris-setosa\n",
            "4            4.6          3.1           1.5          0.2     Iris-setosa\n",
            "..           ...          ...           ...          ...             ...\n",
            "73           6.4          3.2           5.3          2.3  Iris-virginica\n",
            "74           6.5          3.0           5.5          1.8  Iris-virginica\n",
            "75           7.7          3.8           6.7          2.2  Iris-virginica\n",
            "76           7.7          2.6           6.9          NaN  Iris-virginica\n",
            "84           NaN          2.9           5.6          1.8  Iris-virginica\n",
            "\n",
            "[78 rows x 5 columns]\n"
          ]
        }
      ]
    }
  ]
}